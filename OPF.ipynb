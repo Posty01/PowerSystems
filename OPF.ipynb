{
 "cells": [
  {
   "cell_type": "code",
   "execution_count": null,
   "metadata": {},
   "outputs": [],
   "source": [
    "from pyomo.environ import *\n",
    "import pandas as pd"
   ]
  },
  {
   "cell_type": "code",
   "execution_count": null,
   "metadata": {},
   "outputs": [],
   "source": [
    "# import data\n",
    "\n",
    "# gen = pd.read_excel('homework6_9.xlsx',sheet_name='gen',index_col='GeneratorName')\n",
    "# line = pd.read_excel('homework6_9.xlsx','line',index_col='lineID')\n",
    "# demand = pd.read_excel('homework6_9.xlsx','demand',index_col='DemandID')\n",
    "\n",
    "\n",
    "gen = pd.read_excel('3bus_data_lecture.xlsx',sheet_name='gen',index_col='GeneratorName')\n",
    "line = pd.read_excel('3bus_data_lecture.xlsx','line',index_col='lineID')\n",
    "demand = pd.read_excel('3bus_data_lecture.xlsx','demand',index_col='DemandID')\n",
    "\n",
    "\n",
    "# gen = pd.read_excel('5bus_data.xlsx',sheet_name='gen',index_col='GeneratorName')\n",
    "# line = pd.read_excel('5bus_data.xlsx','line',index_col='lineID')\n",
    "# demand = pd.read_excel('5bus_data.xlsx','demand',index_col='DemandID')"
   ]
  },
  {
   "cell_type": "code",
   "execution_count": 3,
   "metadata": {},
   "outputs": [],
   "source": [
    "#line.loc['L23','capacity']=65"
   ]
  },
  {
   "cell_type": "code",
   "execution_count": 4,
   "metadata": {},
   "outputs": [],
   "source": [
    "#gen.loc['C','Cost']=3"
   ]
  },
  {
   "cell_type": "code",
   "execution_count": 5,
   "metadata": {},
   "outputs": [],
   "source": [
    "gen.loc['D','Cost']=100"
   ]
  },
  {
   "cell_type": "code",
   "execution_count": 6,
   "metadata": {},
   "outputs": [
    {
     "data": {
      "text/html": [
       "<div>\n",
       "<style scoped>\n",
       "    .dataframe tbody tr th:only-of-type {\n",
       "        vertical-align: middle;\n",
       "    }\n",
       "\n",
       "    .dataframe tbody tr th {\n",
       "        vertical-align: top;\n",
       "    }\n",
       "\n",
       "    .dataframe thead th {\n",
       "        text-align: right;\n",
       "    }\n",
       "</style>\n",
       "<table border=\"1\" class=\"dataframe\">\n",
       "  <thead>\n",
       "    <tr style=\"text-align: right;\">\n",
       "      <th></th>\n",
       "      <th>bus</th>\n",
       "      <th>Capacity</th>\n",
       "      <th>Cost</th>\n",
       "    </tr>\n",
       "    <tr>\n",
       "      <th>GeneratorName</th>\n",
       "      <th></th>\n",
       "      <th></th>\n",
       "      <th></th>\n",
       "    </tr>\n",
       "  </thead>\n",
       "  <tbody>\n",
       "    <tr>\n",
       "      <th>A</th>\n",
       "      <td>1</td>\n",
       "      <td>140</td>\n",
       "      <td>7.5</td>\n",
       "    </tr>\n",
       "    <tr>\n",
       "      <th>B</th>\n",
       "      <td>1</td>\n",
       "      <td>285</td>\n",
       "      <td>6.0</td>\n",
       "    </tr>\n",
       "    <tr>\n",
       "      <th>C</th>\n",
       "      <td>2</td>\n",
       "      <td>90</td>\n",
       "      <td>3.0</td>\n",
       "    </tr>\n",
       "    <tr>\n",
       "      <th>D</th>\n",
       "      <td>3</td>\n",
       "      <td>85</td>\n",
       "      <td>100.0</td>\n",
       "    </tr>\n",
       "  </tbody>\n",
       "</table>\n",
       "</div>"
      ],
      "text/plain": [
       "               bus  Capacity   Cost\n",
       "GeneratorName                      \n",
       "A                1       140    7.5\n",
       "B                1       285    6.0\n",
       "C                2        90    3.0\n",
       "D                3        85  100.0"
      ]
     },
     "execution_count": 6,
     "metadata": {},
     "output_type": "execute_result"
    }
   ],
   "source": [
    "gen"
   ]
  },
  {
   "cell_type": "code",
   "execution_count": 7,
   "metadata": {},
   "outputs": [
    {
     "data": {
      "text/html": [
       "<div>\n",
       "<style scoped>\n",
       "    .dataframe tbody tr th:only-of-type {\n",
       "        vertical-align: middle;\n",
       "    }\n",
       "\n",
       "    .dataframe tbody tr th {\n",
       "        vertical-align: top;\n",
       "    }\n",
       "\n",
       "    .dataframe thead th {\n",
       "        text-align: right;\n",
       "    }\n",
       "</style>\n",
       "<table border=\"1\" class=\"dataframe\">\n",
       "  <thead>\n",
       "    <tr style=\"text-align: right;\">\n",
       "      <th></th>\n",
       "      <th>from</th>\n",
       "      <th>to</th>\n",
       "      <th>reactance</th>\n",
       "      <th>capacity</th>\n",
       "    </tr>\n",
       "    <tr>\n",
       "      <th>lineID</th>\n",
       "      <th></th>\n",
       "      <th></th>\n",
       "      <th></th>\n",
       "      <th></th>\n",
       "    </tr>\n",
       "  </thead>\n",
       "  <tbody>\n",
       "    <tr>\n",
       "      <th>L12</th>\n",
       "      <td>1</td>\n",
       "      <td>2</td>\n",
       "      <td>0.2</td>\n",
       "      <td>126</td>\n",
       "    </tr>\n",
       "    <tr>\n",
       "      <th>L13</th>\n",
       "      <td>1</td>\n",
       "      <td>3</td>\n",
       "      <td>0.2</td>\n",
       "      <td>250</td>\n",
       "    </tr>\n",
       "    <tr>\n",
       "      <th>L23</th>\n",
       "      <td>2</td>\n",
       "      <td>3</td>\n",
       "      <td>0.1</td>\n",
       "      <td>65</td>\n",
       "    </tr>\n",
       "  </tbody>\n",
       "</table>\n",
       "</div>"
      ],
      "text/plain": [
       "        from  to  reactance  capacity\n",
       "lineID                               \n",
       "L12        1   2        0.2       126\n",
       "L13        1   3        0.2       250\n",
       "L23        2   3        0.1        65"
      ]
     },
     "execution_count": 7,
     "metadata": {},
     "output_type": "execute_result"
    }
   ],
   "source": [
    "line"
   ]
  },
  {
   "cell_type": "code",
   "execution_count": 8,
   "metadata": {},
   "outputs": [],
   "source": [
    "# create sets, iterable objects\n",
    "gens = gen.index #.tolist()\n",
    "lines = line.index #.tolist()\n",
    "demands = demand.index #.tolist()\n",
    "#buses = gen['bus'].unique()#.tolist()\n",
    "buses = [1,2,3]\n",
    "# buses= ['A','B','C','D','E']"
   ]
  },
  {
   "cell_type": "code",
   "execution_count": 9,
   "metadata": {},
   "outputs": [
    {
     "data": {
      "text/plain": [
       "Index(['L12', 'L13', 'L23'], dtype='object', name='lineID')"
      ]
     },
     "execution_count": 9,
     "metadata": {},
     "output_type": "execute_result"
    }
   ],
   "source": [
    "lines"
   ]
  },
  {
   "cell_type": "code",
   "execution_count": 10,
   "metadata": {},
   "outputs": [],
   "source": [
    "# Create Model\n",
    "m = ConcreteModel()\n",
    "\n",
    "m.dual = Suffix(direction=Suffix.IMPORT)"
   ]
  },
  {
   "cell_type": "code",
   "execution_count": 11,
   "metadata": {},
   "outputs": [],
   "source": [
    "# Create Variables\n",
    "m.power = Var(gens, domain=NonNegativeReals) # did not find a good syntax for bounds, have to use constraints. \n",
    "m.flow = Var(lines)\n",
    "m.theta = Var(buses)\n"
   ]
  },
  {
   "cell_type": "code",
   "execution_count": 12,
   "metadata": {},
   "outputs": [],
   "source": [
    "# m.power['Alta']"
   ]
  },
  {
   "cell_type": "code",
   "execution_count": null,
   "metadata": {},
   "outputs": [],
   "source": []
  },
  {
   "cell_type": "code",
   "execution_count": 13,
   "metadata": {},
   "outputs": [],
   "source": [
    "# Create Objective Function\n",
    "exp_obj = sum([m.power[g]*gen.loc[g,'Cost'] for g in gens])"
   ]
  },
  {
   "cell_type": "code",
   "execution_count": 14,
   "metadata": {},
   "outputs": [
    {
     "name": "stdout",
     "output_type": "stream",
     "text": [
      "7.5*power[A] + 6.0*power[B] + 3.0*power[C] + 100.0*power[D]\n"
     ]
    }
   ],
   "source": [
    "print(exp_obj)"
   ]
  },
  {
   "cell_type": "code",
   "execution_count": 15,
   "metadata": {},
   "outputs": [],
   "source": [
    "m.cost = Objective(expr=exp_obj, sense=minimize)"
   ]
  },
  {
   "cell_type": "code",
   "execution_count": null,
   "metadata": {},
   "outputs": [
    {
     "name": "stdout",
     "output_type": "stream",
     "text": [
      "power[A] + power[B] - 50 - (flow[L12] + flow[L13])\n",
      "power[C] - 60 - flow[L23] + flow[L12]\n",
      "power[D] - 300 + flow[L13] + flow[L23]\n"
     ]
    }
   ],
   "source": [
    "# Create Bus Balance Constraints KCL for each bus\n",
    "m.bus_bal = ConstraintList()\n",
    "for i in buses:\n",
    "    expr = (sum([m.power[g] for g in gen[gen['bus']==i].index]) # power injection\n",
    "             -sum([demand['MW'][d] for d in demand[demand['bus']==i].index]) # power draw from load\n",
    "             -sum([m.flow[k] for k in line[line['from']==i].index]) # power flow from bus i\n",
    "             +sum([m.flow[k] for k in line[line['to']==i].index])) # power flow to bus i \n",
    "    print(expr)\n",
    "    m.bus_bal.add(expr==0)\n",
    "    \n"
   ]
  },
  {
   "cell_type": "code",
   "execution_count": 17,
   "metadata": {},
   "outputs": [],
   "source": [
    "#gen[gen['bus']==1].index"
   ]
  },
  {
   "cell_type": "code",
   "execution_count": 18,
   "metadata": {},
   "outputs": [
    {
     "data": {
      "text/plain": [
       "[1, 2, 3]"
      ]
     },
     "execution_count": 18,
     "metadata": {},
     "output_type": "execute_result"
    }
   ],
   "source": [
    "buses"
   ]
  },
  {
   "cell_type": "code",
   "execution_count": 19,
   "metadata": {},
   "outputs": [
    {
     "name": "stdout",
     "output_type": "stream",
     "text": [
      "flow[L12]  ==  5.0*(theta[1] - theta[2])\n",
      "flow[L13]  ==  5.0*(theta[1] - theta[3])\n",
      "flow[L23]  ==  10.0*(theta[2] - theta[3])\n"
     ]
    }
   ],
   "source": [
    "# Create Flow equation constraint\n",
    "m.flow_eq = ConstraintList()\n",
    "for k in lines:\n",
    "    flow_eq = (m.flow[k] == (round(1/line['reactance'][k],2)*(m.theta[line['from'][k]]-m.theta[line['to'][k]])))\n",
    "    print(flow_eq)\n",
    "    m.flow_eq.add(flow_eq)\n",
    "\n",
    "# m.flow_eq = Constraint(Any)\n",
    "# for k in lines:\n",
    "#     m.flow_eq[k] = (m.flow[k] == (round(1/line['reactance'][k],2)*(m.theta[line['from'][k]]-m.theta[line['to'][k]])))\n",
    "#     print(m.flow_eq[k])\n"
   ]
  },
  {
   "cell_type": "code",
   "execution_count": 20,
   "metadata": {},
   "outputs": [],
   "source": [
    "# Create Flow limit constraint\n",
    "m.flow_limit = ConstraintList()\n",
    "for k in lines:\n",
    "    m.flow_limit.add(inequality(-line['capacity'][k], m.flow[k], line['capacity'][k]))\n",
    "    #m.flow_limit.add(-line['capacity'][k]<=m.flow[k]<=line['capacity'][k])"
   ]
  },
  {
   "cell_type": "code",
   "execution_count": 21,
   "metadata": {},
   "outputs": [
    {
     "data": {
      "text/plain": [
       "<pyomo.core.base.constraint._GeneralConstraintData at 0x2dab5bbc108>"
      ]
     },
     "execution_count": 21,
     "metadata": {},
     "output_type": "execute_result"
    }
   ],
   "source": [
    "# Designate a Reference bus\n",
    "m.refBus = ConstraintList()\n",
    "expr = (m.theta[1]==0)  \n",
    "#expr = (m.theta['A']==0)\n",
    "m.refBus.add(expr)\n"
   ]
  },
  {
   "cell_type": "code",
   "execution_count": 22,
   "metadata": {},
   "outputs": [],
   "source": [
    "# Create Generator Capacity Limit Constraint"
   ]
  },
  {
   "cell_type": "code",
   "execution_count": 23,
   "metadata": {},
   "outputs": [
    {
     "name": "stdout",
     "output_type": "stream",
     "text": [
      "power[A]  <=  140.0\n",
      "power[B]  <=  285.0\n",
      "power[C]  <=  90.0\n",
      "power[D]  <=  85.0\n"
     ]
    }
   ],
   "source": [
    "m.gen_cap = ConstraintList()\n",
    "for g in gens:\n",
    "    expr = m.power[g]<=gen['Capacity'][g]\n",
    "    print(expr)\n",
    "    m.gen_cap.add(expr)"
   ]
  },
  {
   "cell_type": "code",
   "execution_count": 24,
   "metadata": {},
   "outputs": [
    {
     "data": {
      "text/plain": [
       "{'Problem': [{'Name': 'unknown', 'Lower bound': 9816.25, 'Upper bound': 9816.25, 'Number of objectives': 1, 'Number of constraints': 18, 'Number of variables': 11, 'Number of nonzeros': 31, 'Sense': 'minimize'}], 'Solver': [{'Status': 'ok', 'Termination condition': 'optimal', 'Statistics': {'Branch and bound': {'Number of bounded subproblems': 0, 'Number of created subproblems': 0}}, 'Error rc': 0, 'Time': 0.032912254333496094}], 'Solution': [OrderedDict([('number of solutions', 0), ('number of solutions displayed', 0)])]}"
      ]
     },
     "execution_count": 24,
     "metadata": {},
     "output_type": "execute_result"
    }
   ],
   "source": [
    "SolverFactory('glpk').solve(m)"
   ]
  },
  {
   "cell_type": "code",
   "execution_count": 25,
   "metadata": {},
   "outputs": [
    {
     "name": "stdout",
     "output_type": "stream",
     "text": [
      "Model unknown\n",
      "\n",
      "  Variables:\n",
      "    power : Size=4, Index=power_index\n",
      "        Key : Lower : Value : Upper : Fixed : Stale : Domain\n",
      "          A :     0 :  47.5 :  None : False : False : NonNegativeReals\n",
      "          B :     0 : 285.0 :  None : False : False : NonNegativeReals\n",
      "          C :     0 :   0.0 :  None : False : False : NonNegativeReals\n",
      "          D :     0 :  77.5 :  None : False : False : NonNegativeReals\n",
      "    flow : Size=3, Index=flow_index\n",
      "        Key : Lower : Value : Upper : Fixed : Stale : Domain\n",
      "        L12 :  None : 125.0 :  None : False : False :  Reals\n",
      "        L13 :  None : 157.5 :  None : False : False :  Reals\n",
      "        L23 :  None :  65.0 :  None : False : False :  Reals\n",
      "    theta : Size=3, Index=theta_index\n",
      "        Key : Lower : Value : Upper : Fixed : Stale : Domain\n",
      "          1 :  None :   0.0 :  None : False : False :  Reals\n",
      "          2 :  None : -25.0 :  None : False : False :  Reals\n",
      "          3 :  None : -31.5 :  None : False : False :  Reals\n",
      "\n",
      "  Objectives:\n",
      "    cost : Size=1, Index=None, Active=True\n",
      "        Key  : Active : Value\n",
      "        None :   True : 9816.25\n",
      "\n",
      "  Constraints:\n",
      "    bus_bal : Size=3\n",
      "        Key : Lower : Body : Upper\n",
      "          1 :   0.0 :  0.0 :   0.0\n",
      "          2 :   0.0 :  0.0 :   0.0\n",
      "          3 :   0.0 :  0.0 :   0.0\n",
      "    flow_eq : Size=3\n",
      "        Key : Lower : Body : Upper\n",
      "          1 :   0.0 :  0.0 :   0.0\n",
      "          2 :   0.0 :  0.0 :   0.0\n",
      "          3 :   0.0 :  0.0 :   0.0\n",
      "    flow_limit : Size=3\n",
      "        Key : Lower  : Body  : Upper\n",
      "          1 : -126.0 : 125.0 : 126.0\n",
      "          2 : -250.0 : 157.5 : 250.0\n",
      "          3 :  -65.0 :  65.0 :  65.0\n",
      "    refBus : Size=1\n",
      "        Key : Lower : Body : Upper\n",
      "          1 :   0.0 :  0.0 :   0.0\n",
      "    gen_cap : Size=4\n",
      "        Key : Lower : Body  : Upper\n",
      "          1 :  None :  47.5 : 140.0\n",
      "          2 :  None : 285.0 : 285.0\n",
      "          3 :  None :   0.0 :  90.0\n",
      "          4 :  None :  77.5 :  85.0\n"
     ]
    }
   ],
   "source": [
    "m.display()"
   ]
  },
  {
   "cell_type": "code",
   "execution_count": 26,
   "metadata": {},
   "outputs": [
    {
     "data": {
      "text/plain": [
       "100.0"
      ]
     },
     "execution_count": 26,
     "metadata": {},
     "output_type": "execute_result"
    }
   ],
   "source": [
    "m.dual[m.bus_bal[3]]"
   ]
  },
  {
   "cell_type": "code",
   "execution_count": 27,
   "metadata": {},
   "outputs": [],
   "source": [
    "#print(m.dual[m.bus_bal[3]]*m.power['D']-m.power['D']*10)"
   ]
  },
  {
   "cell_type": "code",
   "execution_count": null,
   "metadata": {},
   "outputs": [],
   "source": []
  }
 ],
 "metadata": {
  "kernelspec": {
   "display_name": "Python 3",
   "language": "python",
   "name": "python3"
  },
  "language_info": {
   "codemirror_mode": {
    "name": "ipython",
    "version": 3
   },
   "file_extension": ".py",
   "mimetype": "text/x-python",
   "name": "python",
   "nbconvert_exporter": "python",
   "pygments_lexer": "ipython3",
   "version": "3.7.1"
  }
 },
 "nbformat": 4,
 "nbformat_minor": 2
}
